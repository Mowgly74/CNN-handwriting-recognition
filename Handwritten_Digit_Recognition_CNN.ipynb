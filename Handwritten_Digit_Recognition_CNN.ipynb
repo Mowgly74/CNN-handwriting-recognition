{
 "cells": [
  {
   "cell_type": "markdown",
   "id": "0787722d",
   "metadata": {},
   "source": [
    "# 🧠 Handwritten Digit Recognition using CNN\n",
    "This project trains a Convolutional Neural Network (CNN) to recognize handwritten digits (0–9) using the MNIST dataset.\n",
    "\n",
    "The notebook is organized into sections:\n",
    "1. Data Loading and Preprocessing\n",
    "2. Model Building and Training\n",
    "3. Model Evaluation (Accuracy, Precision, Recall, F1-score)\n",
    "4. Predict Digit from Image Path\n",
    "5. Predict Digit by Writing on Screen (Real-time Capture)"
   ]
  },
  {
   "cell_type": "markdown",
   "id": "1404081b",
   "metadata": {},
   "source": [
    "## 1️⃣ Data Loading and Preprocessing\n",
    "We load the MNIST dataset and apply normalization, reshaping, and basic data augmentation to improve model performance."
   ]
  },
  {
   "cell_type": "code",
   "execution_count": null,
   "id": "1b269424",
   "metadata": {},
   "outputs": [],
   "source": [
    "\n",
    "import numpy as np\n",
    "import tensorflow as tf\n",
    "from tensorflow.keras.datasets import mnist\n",
    "from tensorflow.keras.utils import to_categorical\n",
    "from tensorflow.keras.preprocessing.image import ImageDataGenerator\n",
    "\n",
    "# Load data\n",
    "(X_train, y_train), (X_test, y_test) = mnist.load_data()\n",
    "\n",
    "# Reshape and normalize\n",
    "X_train = X_train.reshape((-1, 28, 28, 1)).astype('float32') / 255.0\n",
    "X_test = X_test.reshape((-1, 28, 28, 1)).astype('float32') / 255.0\n",
    "\n",
    "# One-hot encode labels\n",
    "y_train_cat = to_categorical(y_train)\n",
    "y_test_cat = to_categorical(y_test)\n",
    "\n",
    "# Data augmentation\n",
    "datagen = ImageDataGenerator(\n",
    "    rotation_range=10,\n",
    "    zoom_range=0.1,\n",
    "    width_shift_range=0.1,\n",
    "    height_shift_range=0.1\n",
    ")\n",
    "datagen.fit(X_train)\n"
   ]
  },
  {
   "cell_type": "markdown",
   "id": "19dd5dcb",
   "metadata": {},
   "source": [
    "## 2️⃣ Build and Train the CNN Model"
   ]
  },
  {
   "cell_type": "code",
   "execution_count": null,
   "id": "9703ca6d",
   "metadata": {},
   "outputs": [],
   "source": [
    "\n",
    "from tensorflow.keras import layers, models\n",
    "\n",
    "# Define CNN architecture\n",
    "model = models.Sequential([\n",
    "    layers.Conv2D(32, (3, 3), activation='relu', input_shape=(28, 28, 1)),\n",
    "    layers.MaxPooling2D((2, 2)),\n",
    "    layers.Conv2D(64, (3, 3), activation='relu'),\n",
    "    layers.MaxPooling2D((2, 2)),\n",
    "    layers.Flatten(),\n",
    "    layers.Dense(128, activation='relu'),\n",
    "    layers.Dense(10, activation='softmax')\n",
    "])\n",
    "\n",
    "# Compile model\n",
    "model.compile(optimizer='adam', loss='categorical_crossentropy', metrics=['accuracy'])\n",
    "\n",
    "# Train model\n",
    "model.fit(datagen.flow(X_train, y_train_cat, batch_size=64), epochs=5, validation_data=(X_test, y_test_cat))\n",
    "\n",
    "# Save the model\n",
    "model.save(\"digit_model.h5\")\n",
    "print(\"Model training complete and saved as 'digit_model.h5'\")\n"
   ]
  },
  {
   "cell_type": "markdown",
   "id": "a8d6d86f",
   "metadata": {},
   "source": [
    "## 3️⃣ Model Evaluation\n",
    "We evaluate the model using accuracy, precision, recall, F1 score, and confusion matrix."
   ]
  },
  {
   "cell_type": "code",
   "execution_count": null,
   "id": "03557992",
   "metadata": {},
   "outputs": [],
   "source": [
    "\n",
    "from sklearn.metrics import classification_report, confusion_matrix\n",
    "import seaborn as sns\n",
    "import matplotlib.pyplot as plt\n",
    "\n",
    "# Predict and evaluate\n",
    "y_pred = model.predict(X_test)\n",
    "y_pred_labels = np.argmax(y_pred, axis=1)\n",
    "\n",
    "# Print classification report\n",
    "print(classification_report(y_test, y_pred_labels))\n",
    "\n",
    "# Confusion matrix\n",
    "cm = confusion_matrix(y_test, y_pred_labels)\n",
    "plt.figure(figsize=(10,7))\n",
    "sns.heatmap(cm, annot=True, fmt='d', cmap='Blues')\n",
    "plt.xlabel(\"Predicted\")\n",
    "plt.ylabel(\"Actual\")\n",
    "plt.title(\"Confusion Matrix\")\n",
    "plt.show()\n"
   ]
  },
  {
   "cell_type": "markdown",
   "id": "8f85c012",
   "metadata": {},
   "source": [
    "## 4️⃣ Predict Digit from Image Path\n",
    "This function loads an image from the given path, preprocesses it, and makes a prediction."
   ]
  },
  {
   "cell_type": "code",
   "execution_count": null,
   "id": "5ded290d",
   "metadata": {},
   "outputs": [],
   "source": [
    "\n",
    "import cv2\n",
    "import os\n",
    "\n",
    "# Preprocessing function\n",
    "def preprocess_image(img_path):\n",
    "    img = cv2.imread(img_path)\n",
    "    img = cv2.cvtColor(img, cv2.COLOR_BGR2GRAY)\n",
    "    img = cv2.resize(img, (28, 28))\n",
    "    img = cv2.bitwise_not(img)\n",
    "    img = img.astype('float32') / 255.0\n",
    "    img = img.reshape(1, 28, 28, 1)\n",
    "    return img\n",
    "\n",
    "# Predict from terminal input\n",
    "def predict_from_path():\n",
    "    model = tf.keras.models.load_model(\"digit_model.h5\")\n",
    "    path = input(\"Enter image path: \").strip()\n",
    "    if not os.path.exists(path):\n",
    "        print(\"❌ File not found!\")\n",
    "        return\n",
    "    img = preprocess_image(path)\n",
    "    pred = model.predict(img)\n",
    "    print(f\"✅ Predicted digit: {np.argmax(pred)}\")\n",
    "\n",
    "# Uncomment to run\n",
    "# predict_from_path()\n"
   ]
  },
  {
   "cell_type": "markdown",
   "id": "1cd6bf20",
   "metadata": {},
   "source": [
    "## 5️⃣ Predict Digit by Writing on Screen (Real-time Capture)\n",
    "This function captures the screen after you write a digit in an application like Paint. It gives you 10 seconds to write the digit."
   ]
  },
  {
   "cell_type": "code",
   "execution_count": null,
   "id": "2e2986d0",
   "metadata": {},
   "outputs": [],
   "source": [
    "\n",
    "import pyautogui\n",
    "import time\n",
    "import numpy as np\n",
    "\n",
    "# Function to capture the screen after delay and predict\n",
    "def capture_and_predict():\n",
    "    print(\"You have 10 seconds to write the digit in an app like Paint!\")\n",
    "    time.sleep(10)  # Wait for 10 seconds\n",
    "    \n",
    "    # Capture the screen area where the drawing occurs\n",
    "    screenshot = pyautogui.screenshot(region=(0, 0, 300, 300))\n",
    "    screenshot.save(\"screen_capture.png\")\n",
    "    \n",
    "    # Preprocess the screenshot for prediction\n",
    "    img = preprocess_image(\"screen_capture.png\")\n",
    "    pred = model.predict(img)\n",
    "    print(f\"✅ Predicted digit: {np.argmax(pred)}\")\n",
    "\n",
    "# Uncomment to run\n",
    "# capture_and_predict()\n"
   ]
  }
 ],
 "metadata": {},
 "nbformat": 4,
 "nbformat_minor": 5
}
